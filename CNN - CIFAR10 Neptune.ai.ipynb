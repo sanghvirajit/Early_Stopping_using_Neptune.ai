{
 "cells": [
  {
   "cell_type": "code",
   "execution_count": 1,
   "metadata": {},
   "outputs": [
    {
     "name": "stderr",
     "output_type": "stream",
     "text": [
      "\n",
      "Bad key \"text.kerning_factor\" on line 4 in\n",
      "C:\\Users\\Rajit_Sanghvi\\Anaconda3\\lib\\site-packages\\matplotlib\\mpl-data\\stylelib\\_classic_test_patch.mplstyle.\n",
      "You probably need to get an updated matplotlibrc file from\n",
      "http://github.com/matplotlib/matplotlib/blob/master/matplotlibrc.template\n",
      "or from the matplotlib source distribution\n"
     ]
    }
   ],
   "source": [
    "import numpy as np \n",
    "import pandas as pd\n",
    "\n",
    "import torch\n",
    "import torch.nn as nn\n",
    "import torch.nn.functional as F\n",
    "import torch.utils.data\n",
    "from torch.autograd import Variable\n",
    "import torch.optim as optim\n",
    "import torchvision\n",
    "import torchvision.transforms as transforms\n",
    "import matplotlib.pyplot as plt\n",
    "\n",
    "import torchvision.datasets as datasets"
   ]
  },
  {
   "cell_type": "code",
   "execution_count": 2,
   "metadata": {},
   "outputs": [],
   "source": [
    "transform = transforms.Compose(\n",
    "    [transforms.ToTensor(),\n",
    "     transforms.Normalize((0.5, 0.5, 0.5), (0.5, 0.5, 0.5))])"
   ]
  },
  {
   "cell_type": "code",
   "execution_count": 3,
   "metadata": {},
   "outputs": [
    {
     "name": "stdout",
     "output_type": "stream",
     "text": [
      "Downloading https://www.cs.toronto.edu/~kriz/cifar-10-python.tar.gz to ./data\\cifar-10-python.tar.gz\n"
     ]
    },
    {
     "data": {
      "application/vnd.jupyter.widget-view+json": {
       "model_id": "ed38c13d5e0b42fcbea9b0a4f45d2bae",
       "version_major": 2,
       "version_minor": 0
      },
      "text/html": [
       "<p>Failed to display Jupyter Widget of type <code>HBox</code>.</p>\n",
       "<p>\n",
       "  If you're reading this message in the Jupyter Notebook or JupyterLab Notebook, it may mean\n",
       "  that the widgets JavaScript is still loading. If this message persists, it\n",
       "  likely means that the widgets JavaScript library is either not installed or\n",
       "  not enabled. See the <a href=\"https://ipywidgets.readthedocs.io/en/stable/user_install.html\">Jupyter\n",
       "  Widgets Documentation</a> for setup instructions.\n",
       "</p>\n",
       "<p>\n",
       "  If you're reading this message in another frontend (for example, a static\n",
       "  rendering on GitHub or <a href=\"https://nbviewer.jupyter.org/\">NBViewer</a>),\n",
       "  it may mean that your frontend doesn't currently support widgets.\n",
       "</p>\n"
      ],
      "text/plain": [
       "HBox(children=(FloatProgress(value=1.0, bar_style='info', layout=Layout(width='20px'), max=1.0), HTML(value='')))"
      ]
     },
     "metadata": {},
     "output_type": "display_data"
    },
    {
     "name": "stdout",
     "output_type": "stream",
     "text": [
      "Extracting ./data\\cifar-10-python.tar.gz to ./data\n",
      "Files already downloaded and verified\n"
     ]
    }
   ],
   "source": [
    "# let’s initialize the CIFAR train and test set.\n",
    "cifar_trainset = datasets.CIFAR10(root='./data', train=True, download=True, transform=transform)\n",
    "cifar_testset = datasets.CIFAR10(root='./data', train=False, download=True, transform=transform)"
   ]
  },
  {
   "cell_type": "code",
   "execution_count": 4,
   "metadata": {},
   "outputs": [],
   "source": [
    "train_batch_size = 4\n",
    "test_batch_size = 4"
   ]
  },
  {
   "cell_type": "code",
   "execution_count": 5,
   "metadata": {},
   "outputs": [],
   "source": [
    "train_loader = torch.utils.data.DataLoader(\n",
    "                 dataset=cifar_trainset,\n",
    "                 batch_size=train_batch_size, shuffle=False)\n",
    "test_loader = torch.utils.data.DataLoader(\n",
    "                dataset=cifar_testset,\n",
    "                batch_size=test_batch_size, shuffle=False)"
   ]
  },
  {
   "cell_type": "code",
   "execution_count": 6,
   "metadata": {},
   "outputs": [
    {
     "name": "stdout",
     "output_type": "stream",
     "text": [
      "torch.Size([4, 3, 32, 32])\n",
      "torch.Size([4])\n"
     ]
    },
    {
     "data": {
      "text/plain": [
       "(50000, 10000)"
      ]
     },
     "execution_count": 6,
     "metadata": {},
     "output_type": "execute_result"
    }
   ],
   "source": [
    "dataiter = iter(train_loader)\n",
    "X_batch, y_batch = dataiter.next()\n",
    "\n",
    "print(X_batch.shape)\n",
    "print(y_batch.shape)\n",
    "len(train_loader.dataset), len(test_loader.dataset)"
   ]
  },
  {
   "cell_type": "code",
   "execution_count": 7,
   "metadata": {},
   "outputs": [
    {
     "name": "stdout",
     "output_type": "stream",
     "text": [
      "  f r o g\n"
     ]
    },
    {
     "data": {
      "image/png": "[encoded data removed]",
      "text/plain": [
       "<Figure size 432x288 with 1 Axes>"
      ]
     },
     "metadata": {
      "needs_background": "light"
     },
     "output_type": "display_data"
    },
    {
     "name": "stdout",
     "output_type": "stream",
     "text": [
      "\n",
      "t r u c k\n"
     ]
    },
    {
     "data": {
      "image/png": "[encoded data removed]",
      "text/plain": [
       "<Figure size 432x288 with 1 Axes>"
      ]
     },
     "metadata": {
      "needs_background": "light"
     },
     "output_type": "display_data"
    },
    {
     "name": "stdout",
     "output_type": "stream",
     "text": [
      "t r u c k\n"
     ]
    },
    {
     "data": {
      "image/png": "[encoded data removed]",
      "text/plain": [
       "<Figure size 432x288 with 1 Axes>"
      ]
     },
     "metadata": {
      "needs_background": "light"
     },
     "output_type": "display_data"
    },
    {
     "name": "stdout",
     "output_type": "stream",
     "text": [
      "  d e e r\n"
     ]
    },
    {
     "data": {
      "image/png": "[encoded data removed]",
      "text/plain": [
       "<Figure size 432x288 with 1 Axes>"
      ]
     },
     "metadata": {
      "needs_background": "light"
     },
     "output_type": "display_data"
    }
   ],
   "source": [
    "classes = ('plane', 'car', 'bird', 'cat',\n",
    "           'deer', 'dog', 'frog', 'horse', 'ship', 'truck')\n",
    "\n",
    "# Showing random images from the batch\n",
    "def imshow(img):\n",
    "    for i in range(train_batch_size):\n",
    "        img[i] = img[i] / 2 + 0.5     # unnormalize\n",
    "        plt.imshow(img[i].numpy().transpose(1, 2, 0))\n",
    "        print(' '.join('%5s' % classes[y_batch[i]]))\n",
    "        plt.show()\n",
    "          \n",
    "imshow(X_batch)"
   ]
  },
  {
   "cell_type": "code",
   "execution_count": 8,
   "metadata": {},
   "outputs": [],
   "source": [
    "train_batch_size = 5000\n",
    "test_batch_size = 1000"
   ]
  },
  {
   "cell_type": "code",
   "execution_count": 9,
   "metadata": {},
   "outputs": [],
   "source": [
    "train_loader = torch.utils.data.DataLoader(\n",
    "                 dataset=cifar_trainset,\n",
    "                 batch_size=train_batch_size, shuffle=False)\n",
    "test_loader = torch.utils.data.DataLoader(\n",
    "                dataset=cifar_testset,\n",
    "                batch_size=test_batch_size, shuffle=False)\n",
    "\n",
    "classes = ('plane', 'car', 'bird', 'cat',\n",
    "           'deer', 'dog', 'frog', 'horse', 'ship', 'truck')"
   ]
  },
  {
   "cell_type": "code",
   "execution_count": 10,
   "metadata": {},
   "outputs": [
    {
     "name": "stdout",
     "output_type": "stream",
     "text": [
      "CNN(\n",
      "  (conv1): Conv2d(3, 32, kernel_size=(3, 3), stride=(1, 1), padding=(1, 1))\n",
      "  (conv2): Conv2d(32, 32, kernel_size=(3, 3), stride=(1, 1), padding=(1, 1))\n",
      "  (conv3): Conv2d(32, 64, kernel_size=(3, 3), stride=(1, 1), padding=(1, 1))\n",
      "  (conv4): Conv2d(64, 64, kernel_size=(3, 3), stride=(1, 1), padding=(1, 1))\n",
      "  (conv5): Conv2d(64, 128, kernel_size=(3, 3), stride=(1, 1), padding=(1, 1))\n",
      "  (conv6): Conv2d(128, 128, kernel_size=(3, 3), stride=(1, 1), padding=(1, 1))\n",
      "  (maxpool): MaxPool2d(kernel_size=2, stride=2, padding=0, dilation=1, ceil_mode=False)\n",
      "  (fc1): Linear(in_features=2048, out_features=1024, bias=True)\n",
      "  (fc2): Linear(in_features=1024, out_features=512, bias=True)\n",
      "  (fc3): Linear(in_features=512, out_features=10, bias=True)\n",
      ")\n"
     ]
    }
   ],
   "source": [
    "#VGG-8\n",
    "class CNN(nn.Module):\n",
    "    def __init__(self):\n",
    "        super(CNN, self).__init__()\n",
    "        self.conv1 = nn.Conv2d(3, 32, kernel_size=3, padding=(1, 1))\n",
    "        self.conv2 = nn.Conv2d(32, 32, kernel_size=3, padding=(1, 1))\n",
    "        self.conv3 = nn.Conv2d(32, 64, kernel_size=3, padding=(1, 1))\n",
    "        self.conv4 = nn.Conv2d(64, 64, kernel_size=3, padding=(1, 1))\n",
    "        self.conv5 = nn.Conv2d(64, 128, kernel_size=3, padding=(1, 1))\n",
    "        self.conv6 = nn.Conv2d(128, 128, kernel_size=3, padding=(1, 1))\n",
    "        self.maxpool = nn.MaxPool2d(2, stride=2)\n",
    "        self.fc1 = nn.Linear(128 * 4 * 4, 1024)\n",
    "        self.fc2 = nn.Linear(1024, 512)\n",
    "        self.fc3 = nn.Linear(512, 10)\n",
    "        \n",
    "    def forward(self, x):\n",
    "        x = F.relu(self.conv1(x))\n",
    "        x = self.maxpool(F.relu(self.conv2(x)))\n",
    "        x = F.relu(self.conv3(x))\n",
    "        x = self.maxpool(F.relu(self.conv4(x)))\n",
    "        x = F.relu(self.conv5(x))\n",
    "        x = self.maxpool(F.relu(self.conv6(x)))\n",
    "        x = x.view(-1, 128 * 4 * 4)\n",
    "        x = F.relu(self.fc1(x))\n",
    "        x = F.relu(self.fc2(x))\n",
    "        x = F.log_softmax(self.fc3(x), dim=1) \n",
    "        return x\n",
    "\n",
    "cnn = CNN()\n",
    "print(cnn)"
   ]
  },
  {
   "cell_type": "code",
   "execution_count": 11,
   "metadata": {},
   "outputs": [],
   "source": [
    "def evaluate(model, test_loader):\n",
    "#model = cnn\n",
    "\n",
    "    correct = 0 \n",
    "    model.eval()\n",
    "    \n",
    "    for batch_idx, (X_batch, y_batch) in enumerate(test_loader):\n",
    "        \n",
    "        # wrapping tensors in variables,  If x is a Variable then x.data is a Tensor giving its value, \n",
    "        # and x.grad is another Variable holding the gradient of x with respect to some scalar value\n",
    "        var_X_batch = Variable(X_batch).float()\n",
    "        var_y_batch = Variable(y_batch)\n",
    "        \n",
    "        # output of the model\n",
    "        output = model.forward(var_X_batch)\n",
    "                        \n",
    "        # Calculating the loss \n",
    "        # cross entropy function\n",
    "        error = nn.CrossEntropyLoss()\n",
    "        loss = error(output, var_y_batch)\n",
    "            \n",
    "        predicted = torch.max(output,1)[1]\n",
    "        \n",
    "        correct += (predicted == var_y_batch).sum()\n",
    "        test_accuracy = float(correct*100) / (len(test_loader)*test_batch_size)\n",
    "    \n",
    "        test_cost = loss.data\n",
    "        \n",
    "    return test_accuracy, test_cost"
   ]
  },
  {
   "cell_type": "code",
   "execution_count": 12,
   "metadata": {},
   "outputs": [],
   "source": [
    "def fit(model, train_loader, test_loader, epochs, optimizer, loss):\n",
    "    \n",
    "    model.train()\n",
    "    \n",
    "    import neptune\n",
    "    \n",
    "    neptune.init(project_qualified_name='sanghvirajit/sandbox',\n",
    "    api_token='eyJhcGlfYWRkcmVzcyI6Imh0dHBzOi8vdWkubmVwdHVuZS5haSIsImFwaV91cmwiOiJodHRwczovL3VpLm5lcHR1bmUuYWkiLCJhcGlfa2V5IjoiN2Y4MzU5YTctZmJjZS00MmU5LTg4YmYtNDUwZWI5ZTQ3ZmJmIn0=',\n",
    "             )\n",
    "    \n",
    "    # Define parameters\n",
    "    PARAMS = {'train_batch_size': 5000,\n",
    "             'test_batch_size': 1000,\n",
    "             'optimizer': 'Adam'}\n",
    "\n",
    "    # Create experiment\n",
    "    neptune.create_experiment('Pytorch-Neptune-CIFAR10-Early Stopping',params=PARAMS,tags=['classification', 'pytorch', 'neptune'])\n",
    "    \n",
    "    if optimizer == 'Adam': \n",
    "        # Adam optimizer\n",
    "        optimizer = torch.optim.Adam(model.parameters()) # lr=0.001, betas=(0.9,0.999))\n",
    "    \n",
    "    if loss == 'CrossEntropy':\n",
    "        # cross entropy function\n",
    "        error = nn.CrossEntropyLoss()\n",
    "        \n",
    "    for epoch in range(epochs):\n",
    "                \n",
    "        correct = 0\n",
    "        for batch_idx, (X_batch, y_batch) in enumerate(train_loader):\n",
    "            \n",
    "            # wrapping tensors in variables,  If x is a Variable then x.data is a Tensor giving its value, \n",
    "            # and x.grad is another Variable holding the gradient of x with respect to some scalar value\n",
    "            var_X_batch = Variable(X_batch).float()\n",
    "            var_y_batch = Variable(y_batch)\n",
    "                        \n",
    "            # we need to set the gradients to zero before starting to do backpropragation\n",
    "            optimizer.zero_grad()\n",
    "            \n",
    "            # output of the model\n",
    "            output = model.forward(var_X_batch)\n",
    "                        \n",
    "            # Calculating the loss \n",
    "            loss = error(output, var_y_batch)\n",
    "            train_cost = loss.data\n",
    "            \n",
    "            # Let's do backpropogation, it will calculate all the gradients and save to x.grad\n",
    "            loss.backward()\n",
    "            \n",
    "            # Performs a single optimization step,  \n",
    "            #parameter update based on the current gradient (stored in .grad attribute of a parameter) and the update rule\n",
    "            optimizer.step()\n",
    "            \n",
    "            # Total correct predictions\n",
    "            predicted = torch.max(output.data, 1)[1] \n",
    "            correct += (predicted == var_y_batch).sum()\n",
    "            train_accuracy = float(correct*100) / float(train_batch_size*(batch_idx+1))\n",
    "            \n",
    "            #Evaluate\n",
    "            test_accuracy, test_cost = evaluate(model, test_loader)\n",
    "                \n",
    "        print('Epoch : {} [{}/{} ({:.0f}%)]\\tLoss: {:.6f}\\t Accuracy:{:.3f}%'.format(\n",
    "            epoch+1, \n",
    "            (batch_idx+1)*(len(X_batch)), \n",
    "            len(train_loader.dataset), \n",
    "            100.*(batch_idx+1) / len(train_loader), \n",
    "            train_cost, \n",
    "            train_accuracy))\n",
    "                                                  \n",
    "        neptune.log_metric('training loss', train_cost)\n",
    "        neptune.log_metric('training accuracy', train_accuracy)\n",
    "        \n",
    "        neptune.log_metric('testing loss', test_cost)\n",
    "        neptune.log_metric('testing accuracy', test_accuracy)\n",
    "\n",
    "    # stop experiment\n",
    "    neptune.stop()"
   ]
  },
  {
   "cell_type": "code",
   "execution_count": null,
   "metadata": {},
   "outputs": [
    {
     "name": "stdout",
     "output_type": "stream",
     "text": [
      "https://ui.neptune.ai/sanghvirajit/sandbox/e/SAN-19\n",
      "Epoch : 1 [50000/50000 (100%)]\tLoss: 2.126764\t Accuracy:16.272%\n",
      "Epoch : 2 [50000/50000 (100%)]\tLoss: 2.178929\t Accuracy:16.854%\n",
      "Epoch : 3 [50000/50000 (100%)]\tLoss: 2.057443\t Accuracy:23.078%\n",
      "Epoch : 4 [50000/50000 (100%)]\tLoss: 1.970724\t Accuracy:27.156%\n",
      "Epoch : 5 [50000/50000 (100%)]\tLoss: 1.878968\t Accuracy:28.786%\n",
      "Epoch : 6 [50000/50000 (100%)]\tLoss: 1.849822\t Accuracy:29.982%\n",
      "Epoch : 7 [50000/50000 (100%)]\tLoss: 1.720235\t Accuracy:34.120%\n",
      "Epoch : 8 [50000/50000 (100%)]\tLoss: 1.622014\t Accuracy:37.438%\n",
      "Epoch : 9 [50000/50000 (100%)]\tLoss: 1.728931\t Accuracy:39.938%\n",
      "Epoch : 10 [50000/50000 (100%)]\tLoss: 1.531176\t Accuracy:41.334%\n",
      "Epoch : 11 [50000/50000 (100%)]\tLoss: 1.475531\t Accuracy:43.390%\n",
      "Epoch : 12 [50000/50000 (100%)]\tLoss: 1.416869\t Accuracy:45.954%\n",
      "Epoch : 13 [50000/50000 (100%)]\tLoss: 1.494866\t Accuracy:45.942%\n",
      "Epoch : 14 [50000/50000 (100%)]\tLoss: 1.378908\t Accuracy:47.256%\n",
      "Epoch : 15 [50000/50000 (100%)]\tLoss: 1.330705\t Accuracy:49.202%\n",
      "Epoch : 16 [50000/50000 (100%)]\tLoss: 1.290132\t Accuracy:51.196%\n"
     ]
    }
   ],
   "source": [
    "fit(cnn, train_loader, test_loader, epochs=100, optimizer='Adam', loss='CrossEntropy')"
   ]
  },
  {
   "cell_type": "code",
   "execution_count": null,
   "metadata": {},
   "outputs": [],
   "source": []
  }
 ],
 "metadata": {
  "kernelspec": {
   "display_name": "Python 3",
   "language": "python",
   "name": "python3"
  },
  "language_info": {
   "codemirror_mode": {
    "name": "ipython",
    "version": 3
   },
   "file_extension": ".py",
   "mimetype": "text/x-python",
   "name": "python",
   "nbconvert_exporter": "python",
   "pygments_lexer": "ipython3",
   "version": "3.6.4"
  },
  "neptune": {
   "notebookId": "671fe373-1639-41f7-9452-b274fb71188c",
   "projectVersion": 1
  }
 },
 "nbformat": 4,
 "nbformat_minor": 2
}
